{
 "cells": [
  {
   "cell_type": "markdown",
   "metadata": {},
   "source": [
    "# Import Snowflake Connector for Python using PyCall"
   ]
  },
  {
   "cell_type": "code",
   "execution_count": 1,
   "metadata": {},
   "outputs": [],
   "source": [
    "using PyCall\n",
    "@pyimport snowflake.connector as snowflake"
   ]
  },
  {
   "cell_type": "markdown",
   "metadata": {},
   "source": [
    "# Connect to Snowflake"
   ]
  },
  {
   "cell_type": "code",
   "execution_count": 2,
   "metadata": {},
   "outputs": [
    {
     "data": {
      "text/plain": [
       "PyObject <snowflake.connector.connection.SnowflakeConnection object at 0x7fd10a087850>"
      ]
     },
     "execution_count": 2,
     "metadata": {},
     "output_type": "execute_result"
    }
   ],
   "source": [
    "conn = snowflake.connect(\n",
    "    user=\"\",\n",
    "    password = \"\",\n",
    "    account=\"\",\n",
    "    warehouse=\"\",\n",
    "    database=\"\",\n",
    "    role=\"\",\n",
    "    schema=\"\"\n",
    ")"
   ]
  },
  {
   "cell_type": "markdown",
   "metadata": {},
   "source": [
    "# Query a table and get the result in Pandas DataFrame"
   ]
  },
  {
   "cell_type": "code",
   "execution_count": 3,
   "metadata": {},
   "outputs": [
    {
     "data": {
      "text/html": [
       "<div>\n",
       "<style scoped>\n",
       "    .dataframe tbody tr th:only-of-type {\n",
       "        vertical-align: middle;\n",
       "    }\n",
       "\n",
       "    .dataframe tbody tr th {\n",
       "        vertical-align: top;\n",
       "    }\n",
       "\n",
       "    .dataframe thead th {\n",
       "        text-align: right;\n",
       "    }\n",
       "</style>\n",
       "<table border=\"1\" class=\"dataframe\">\n",
       "  <thead>\n",
       "    <tr style=\"text-align: right;\">\n",
       "      <th></th>\n",
       "      <th>C_CUSTKEY</th>\n",
       "      <th>C_NAME</th>\n",
       "      <th>C_ADDRESS</th>\n",
       "      <th>C_NATIONKEY</th>\n",
       "      <th>C_PHONE</th>\n",
       "      <th>C_ACCTBAL</th>\n",
       "      <th>C_MKTSEGMENT</th>\n",
       "      <th>C_COMMENT</th>\n",
       "    </tr>\n",
       "  </thead>\n",
       "  <tbody>\n",
       "    <tr>\n",
       "      <th>0</th>\n",
       "      <td>1</td>\n",
       "      <td>Customer#000000001</td>\n",
       "      <td>IVhzIApeRb ot,c,E</td>\n",
       "      <td>15</td>\n",
       "      <td>25-989-741-2988</td>\n",
       "      <td>711.56</td>\n",
       "      <td>BUILDING</td>\n",
       "      <td>to the even, regular platelets. regular, ironi...</td>\n",
       "    </tr>\n",
       "    <tr>\n",
       "      <th>1</th>\n",
       "      <td>2</td>\n",
       "      <td>Customer#000000002</td>\n",
       "      <td>XSTf4,NCwDVaWNe6tEgvwfmRchLXak</td>\n",
       "      <td>13</td>\n",
       "      <td>23-768-687-3665</td>\n",
       "      <td>121.65</td>\n",
       "      <td>AUTOMOBILE</td>\n",
       "      <td>l accounts. blithely ironic theodolites integr...</td>\n",
       "    </tr>\n",
       "    <tr>\n",
       "      <th>2</th>\n",
       "      <td>3</td>\n",
       "      <td>Customer#000000003</td>\n",
       "      <td>MG9kdTD2WBHm</td>\n",
       "      <td>1</td>\n",
       "      <td>11-719-748-3364</td>\n",
       "      <td>7498.12</td>\n",
       "      <td>AUTOMOBILE</td>\n",
       "      <td>deposits eat slyly ironic, even instructions....</td>\n",
       "    </tr>\n",
       "    <tr>\n",
       "      <th>3</th>\n",
       "      <td>4</td>\n",
       "      <td>Customer#000000004</td>\n",
       "      <td>XxVSJsLAGtn</td>\n",
       "      <td>4</td>\n",
       "      <td>14-128-190-5944</td>\n",
       "      <td>2866.83</td>\n",
       "      <td>MACHINERY</td>\n",
       "      <td>requests. final, regular ideas sleep final accou</td>\n",
       "    </tr>\n",
       "    <tr>\n",
       "      <th>4</th>\n",
       "      <td>5</td>\n",
       "      <td>Customer#000000005</td>\n",
       "      <td>KvpyuHCplrB84WgAiGV6sYpZq7Tj</td>\n",
       "      <td>3</td>\n",
       "      <td>13-750-942-6364</td>\n",
       "      <td>794.47</td>\n",
       "      <td>HOUSEHOLD</td>\n",
       "      <td>n accounts will have to unwind. foxes cajole a...</td>\n",
       "    </tr>\n",
       "    <tr>\n",
       "      <th>...</th>\n",
       "      <td>...</td>\n",
       "      <td>...</td>\n",
       "      <td>...</td>\n",
       "      <td>...</td>\n",
       "      <td>...</td>\n",
       "      <td>...</td>\n",
       "      <td>...</td>\n",
       "      <td>...</td>\n",
       "    </tr>\n",
       "    <tr>\n",
       "      <th>149995</th>\n",
       "      <td>104996</td>\n",
       "      <td>Customer#000104996</td>\n",
       "      <td>kB492ifCmsR</td>\n",
       "      <td>13</td>\n",
       "      <td>23-473-105-5762</td>\n",
       "      <td>8180.80</td>\n",
       "      <td>AUTOMOBILE</td>\n",
       "      <td>ess instructions. stealthy sentiments haggle ab</td>\n",
       "    </tr>\n",
       "    <tr>\n",
       "      <th>149996</th>\n",
       "      <td>104997</td>\n",
       "      <td>Customer#000104997</td>\n",
       "      <td>T 4uumEJ3G9yDewkDsRy6tro</td>\n",
       "      <td>13</td>\n",
       "      <td>23-497-543-7659</td>\n",
       "      <td>3799.36</td>\n",
       "      <td>FURNITURE</td>\n",
       "      <td>the carefully regular theodolites might haggle...</td>\n",
       "    </tr>\n",
       "    <tr>\n",
       "      <th>149997</th>\n",
       "      <td>104998</td>\n",
       "      <td>Customer#000104998</td>\n",
       "      <td>kWoj8DbXRrWCdRTiDJO cnjqcvBHi</td>\n",
       "      <td>14</td>\n",
       "      <td>24-455-333-4949</td>\n",
       "      <td>9792.23</td>\n",
       "      <td>FURNITURE</td>\n",
       "      <td>ounts use across the slyly regular foxes. spec...</td>\n",
       "    </tr>\n",
       "    <tr>\n",
       "      <th>149998</th>\n",
       "      <td>104999</td>\n",
       "      <td>Customer#000104999</td>\n",
       "      <td>Y1wszB,vvhLPOaC1OuK7Ukz06Md1YVdM</td>\n",
       "      <td>11</td>\n",
       "      <td>21-694-610-4672</td>\n",
       "      <td>5064.84</td>\n",
       "      <td>AUTOMOBILE</td>\n",
       "      <td>n ideas alongside of the enticing</td>\n",
       "    </tr>\n",
       "    <tr>\n",
       "      <th>149999</th>\n",
       "      <td>105000</td>\n",
       "      <td>Customer#000105000</td>\n",
       "      <td>IKBbmEXSG1RKhMDYqDG QdW3Z1iFOTSQw 6I8uH</td>\n",
       "      <td>4</td>\n",
       "      <td>14-741-698-6977</td>\n",
       "      <td>4821.79</td>\n",
       "      <td>AUTOMOBILE</td>\n",
       "      <td>finally regular tithes unwind unusual packages...</td>\n",
       "    </tr>\n",
       "  </tbody>\n",
       "</table>\n",
       "<p>150000 rows × 8 columns</p>\n",
       "</div>"
      ],
      "text/plain": [
       "PyObject         C_CUSTKEY              C_NAME                                C_ADDRESS  C_NATIONKEY          C_PHONE  C_ACCTBAL C_MKTSEGMENT                                          C_COMMENT\n",
       "0               1  Customer#000000001                        IVhzIApeRb ot,c,E           15  25-989-741-2988     711.56     BUILDING  to the even, regular platelets. regular, ironi...\n",
       "1               2  Customer#000000002           XSTf4,NCwDVaWNe6tEgvwfmRchLXak           13  23-768-687-3665     121.65   AUTOMOBILE  l accounts. blithely ironic theodolites integr...\n",
       "2               3  Customer#000000003                             MG9kdTD2WBHm            1  11-719-748-3364    7498.12   AUTOMOBILE   deposits eat slyly ironic, even instructions....\n",
       "3               4  Customer#000000004                              XxVSJsLAGtn            4  14-128-190-5944    2866.83    MACHINERY   requests. final, regular ideas sleep final accou\n",
       "4               5  Customer#000000005             KvpyuHCplrB84WgAiGV6sYpZq7Tj            3  13-750-942-6364     794.47    HOUSEHOLD  n accounts will have to unwind. foxes cajole a...\n",
       "...           ...                 ...                                      ...          ...              ...        ...          ...                                                ...\n",
       "149995     104996  Customer#000104996                              kB492ifCmsR           13  23-473-105-5762    8180.80   AUTOMOBILE    ess instructions. stealthy sentiments haggle ab\n",
       "149996     104997  Customer#000104997                 T 4uumEJ3G9yDewkDsRy6tro           13  23-497-543-7659    3799.36    FURNITURE  the carefully regular theodolites might haggle...\n",
       "149997     104998  Customer#000104998            kWoj8DbXRrWCdRTiDJO cnjqcvBHi           14  24-455-333-4949    9792.23    FURNITURE  ounts use across the slyly regular foxes. spec...\n",
       "149998     104999  Customer#000104999         Y1wszB,vvhLPOaC1OuK7Ukz06Md1YVdM           11  21-694-610-4672    5064.84   AUTOMOBILE                  n ideas alongside of the enticing\n",
       "149999     105000  Customer#000105000  IKBbmEXSG1RKhMDYqDG QdW3Z1iFOTSQw 6I8uH            4  14-741-698-6977    4821.79   AUTOMOBILE  finally regular tithes unwind unusual packages...\n",
       "\n",
       "[150000 rows x 8 columns]"
      ]
     },
     "execution_count": 3,
     "metadata": {},
     "output_type": "execute_result"
    }
   ],
   "source": [
    "cur = conn.cursor()\n",
    "pandas_df = cur.execute(\"select * from snowflake_sample_data.tpch_sf1.customer\").fetch_pandas_all()"
   ]
  },
  {
   "cell_type": "markdown",
   "metadata": {},
   "source": [
    "# Convert Pandas DataFrame (PyObject) to Julia native DataFrame"
   ]
  },
  {
   "cell_type": "code",
   "execution_count": 4,
   "metadata": {},
   "outputs": [
    {
     "data": {
      "text/html": [
       "<table class=\"data-frame\"><thead><tr><th></th><th>C_CUSTKEY</th><th>C_NAME</th><th>C_ADDRESS</th><th>C_NATIONKEY</th><th>C_PHONE</th><th>C_ACCTBAL</th><th>C_MKTSEGMENT</th><th>C_COMMENT</th></tr><tr><th></th><th>Int32</th><th>String</th><th>String</th><th>Int8</th><th>String</th><th>Float64</th><th>String</th><th>String</th></tr></thead><tbody><p>150,000 rows × 8 columns</p><tr><th>1</th><td>1</td><td>Customer#000000001</td><td>IVhzIApeRb ot,c,E</td><td>15</td><td>25-989-741-2988</td><td>711.56</td><td>BUILDING</td><td>to the even, regular platelets. regular, ironic epitaphs nag e</td></tr><tr><th>2</th><td>2</td><td>Customer#000000002</td><td>XSTf4,NCwDVaWNe6tEgvwfmRchLXak</td><td>13</td><td>23-768-687-3665</td><td>121.65</td><td>AUTOMOBILE</td><td>l accounts. blithely ironic theodolites integrate boldly: caref</td></tr><tr><th>3</th><td>3</td><td>Customer#000000003</td><td>MG9kdTD2WBHm</td><td>1</td><td>11-719-748-3364</td><td>7498.12</td><td>AUTOMOBILE</td><td> deposits eat slyly ironic, even instructions. express foxes detect slyly. blithely even accounts abov</td></tr><tr><th>4</th><td>4</td><td>Customer#000000004</td><td>XxVSJsLAGtn</td><td>4</td><td>14-128-190-5944</td><td>2866.83</td><td>MACHINERY</td><td> requests. final, regular ideas sleep final accou</td></tr><tr><th>5</th><td>5</td><td>Customer#000000005</td><td>KvpyuHCplrB84WgAiGV6sYpZq7Tj</td><td>3</td><td>13-750-942-6364</td><td>794.47</td><td>HOUSEHOLD</td><td>n accounts will have to unwind. foxes cajole accor</td></tr><tr><th>6</th><td>6</td><td>Customer#000000006</td><td>sKZz0CsnMD7mp4Xd0YrBvx,LREYKUWAh yVn</td><td>20</td><td>30-114-968-4951</td><td>7638.57</td><td>AUTOMOBILE</td><td>tions. even deposits boost according to the slyly bold packages. final accounts cajole requests. furious</td></tr><tr><th>7</th><td>7</td><td>Customer#000000007</td><td>TcGe5gaZNgVePxU5kRrvXBfkasDTea</td><td>18</td><td>28-190-982-9759</td><td>9561.95</td><td>AUTOMOBILE</td><td>ainst the ironic, express theodolites. express, even pinto beans among the exp</td></tr><tr><th>8</th><td>8</td><td>Customer#000000008</td><td>I0B10bB0AymmC, 0PrRYBCP1yGJ8xcBPmWhl5</td><td>17</td><td>27-147-574-9335</td><td>6819.74</td><td>BUILDING</td><td>among the slyly regular theodolites kindle blithely courts. carefully even theodolites haggle slyly along the ide</td></tr><tr><th>9</th><td>9</td><td>Customer#000000009</td><td>xKiAFTjUsCuxfeleNqefumTrjS</td><td>8</td><td>18-338-906-3675</td><td>8324.07</td><td>FURNITURE</td><td>r theodolites according to the requests wake thinly excuses: pending requests haggle furiousl</td></tr><tr><th>10</th><td>10</td><td>Customer#000000010</td><td>6LrEaV6KR6PLVcgl2ArL Q3rqzLzcT1 v2</td><td>5</td><td>15-741-346-9870</td><td>2753.54</td><td>HOUSEHOLD</td><td>es regular deposits haggle. fur</td></tr><tr><th>11</th><td>11</td><td>Customer#000000011</td><td>PkWS 3HlXqwTuzrKg633BEi</td><td>23</td><td>33-464-151-3439</td><td>-272.6</td><td>BUILDING</td><td>ckages. requests sleep slyly. quickly even pinto beans promise above the slyly regular pinto beans. </td></tr><tr><th>12</th><td>12</td><td>Customer#000000012</td><td>9PWKuhzT4Zr1Q</td><td>13</td><td>23-791-276-1263</td><td>3396.49</td><td>HOUSEHOLD</td><td> to the carefully final braids. blithely regular requests nag. ironic theodolites boost quickly along</td></tr><tr><th>13</th><td>13</td><td>Customer#000000013</td><td>nsXQu0oVjD7PM659uC3SRSp</td><td>3</td><td>13-761-547-5974</td><td>3857.34</td><td>BUILDING</td><td>ounts sleep carefully after the close frays. carefully bold notornis use ironic requests. blithely</td></tr><tr><th>14</th><td>14</td><td>Customer#000000014</td><td>KXkletMlL2JQEA </td><td>1</td><td>11-845-129-3851</td><td>5266.3</td><td>FURNITURE</td><td>, ironic packages across the unus</td></tr><tr><th>15</th><td>15</td><td>Customer#000000015</td><td>YtWggXoOLdwdo7b0y,BZaGUQMLJMX1Y,EC,6Dn</td><td>23</td><td>33-687-542-7601</td><td>2788.52</td><td>HOUSEHOLD</td><td> platelets. regular deposits detect asymptotes. blithely unusual packages nag slyly at the fluf</td></tr><tr><th>16</th><td>16</td><td>Customer#000000016</td><td>cYiaeMLZSMAOQ2 d0W,</td><td>10</td><td>20-781-609-3107</td><td>4681.03</td><td>FURNITURE</td><td>kly silent courts. thinly regular theodolites sleep fluffily after </td></tr><tr><th>17</th><td>17</td><td>Customer#000000017</td><td>izrh 6jdqtp2eqdtbkswDD8SG4SzXruMfIXyR7</td><td>2</td><td>12-970-682-3487</td><td>6.34</td><td>AUTOMOBILE</td><td>packages wake! blithely even pint</td></tr><tr><th>18</th><td>18</td><td>Customer#000000018</td><td>3txGO AiuFux3zT0Z9NYaFRnZt</td><td>6</td><td>16-155-215-1315</td><td>5494.43</td><td>BUILDING</td><td>s sleep. carefully even instructions nag furiously alongside of t</td></tr><tr><th>19</th><td>19</td><td>Customer#000000019</td><td>uc,3bHIx84H,wdrmLOjVsiqXCq2tr</td><td>18</td><td>28-396-526-5053</td><td>8914.71</td><td>HOUSEHOLD</td><td> nag. furiously careful packages are slyly at the accounts. furiously regular in</td></tr><tr><th>20</th><td>20</td><td>Customer#000000020</td><td>JrPk8Pqplj4Ne</td><td>22</td><td>32-957-234-8742</td><td>7603.4</td><td>FURNITURE</td><td>g alongside of the special excuses-- fluffily enticing packages wake </td></tr><tr><th>&vellip;</th><td>&vellip;</td><td>&vellip;</td><td>&vellip;</td><td>&vellip;</td><td>&vellip;</td><td>&vellip;</td><td>&vellip;</td><td>&vellip;</td></tr></tbody></table>"
      ],
      "text/latex": [
       "\\begin{tabular}{r|cccccccc}\n",
       "\t& C\\_CUSTKEY & C\\_NAME & C\\_ADDRESS & C\\_NATIONKEY & C\\_PHONE & C\\_ACCTBAL & C\\_MKTSEGMENT & C\\_COMMENT\\\\\n",
       "\t\\hline\n",
       "\t& Int32 & String & String & Int8 & String & Float64 & String & String\\\\\n",
       "\t\\hline\n",
       "\t1 & 1 & Customer\\#000000001 & IVhzIApeRb ot,c,E & 15 & 25-989-741-2988 & 711.56 & BUILDING & to the even, regular platelets. regular, ironic epitaphs nag e \\\\\n",
       "\t2 & 2 & Customer\\#000000002 & XSTf4,NCwDVaWNe6tEgvwfmRchLXak & 13 & 23-768-687-3665 & 121.65 & AUTOMOBILE & l accounts. blithely ironic theodolites integrate boldly: caref \\\\\n",
       "\t3 & 3 & Customer\\#000000003 & MG9kdTD2WBHm & 1 & 11-719-748-3364 & 7498.12 & AUTOMOBILE &  deposits eat slyly ironic, even instructions. express foxes detect slyly. blithely even accounts abov \\\\\n",
       "\t4 & 4 & Customer\\#000000004 & XxVSJsLAGtn & 4 & 14-128-190-5944 & 2866.83 & MACHINERY &  requests. final, regular ideas sleep final accou \\\\\n",
       "\t5 & 5 & Customer\\#000000005 & KvpyuHCplrB84WgAiGV6sYpZq7Tj & 3 & 13-750-942-6364 & 794.47 & HOUSEHOLD & n accounts will have to unwind. foxes cajole accor \\\\\n",
       "\t6 & 6 & Customer\\#000000006 & sKZz0CsnMD7mp4Xd0YrBvx,LREYKUWAh yVn & 20 & 30-114-968-4951 & 7638.57 & AUTOMOBILE & tions. even deposits boost according to the slyly bold packages. final accounts cajole requests. furious \\\\\n",
       "\t7 & 7 & Customer\\#000000007 & TcGe5gaZNgVePxU5kRrvXBfkasDTea & 18 & 28-190-982-9759 & 9561.95 & AUTOMOBILE & ainst the ironic, express theodolites. express, even pinto beans among the exp \\\\\n",
       "\t8 & 8 & Customer\\#000000008 & I0B10bB0AymmC, 0PrRYBCP1yGJ8xcBPmWhl5 & 17 & 27-147-574-9335 & 6819.74 & BUILDING & among the slyly regular theodolites kindle blithely courts. carefully even theodolites haggle slyly along the ide \\\\\n",
       "\t9 & 9 & Customer\\#000000009 & xKiAFTjUsCuxfeleNqefumTrjS & 8 & 18-338-906-3675 & 8324.07 & FURNITURE & r theodolites according to the requests wake thinly excuses: pending requests haggle furiousl \\\\\n",
       "\t10 & 10 & Customer\\#000000010 & 6LrEaV6KR6PLVcgl2ArL Q3rqzLzcT1 v2 & 5 & 15-741-346-9870 & 2753.54 & HOUSEHOLD & es regular deposits haggle. fur \\\\\n",
       "\t11 & 11 & Customer\\#000000011 & PkWS 3HlXqwTuzrKg633BEi & 23 & 33-464-151-3439 & -272.6 & BUILDING & ckages. requests sleep slyly. quickly even pinto beans promise above the slyly regular pinto beans.  \\\\\n",
       "\t12 & 12 & Customer\\#000000012 & 9PWKuhzT4Zr1Q & 13 & 23-791-276-1263 & 3396.49 & HOUSEHOLD &  to the carefully final braids. blithely regular requests nag. ironic theodolites boost quickly along \\\\\n",
       "\t13 & 13 & Customer\\#000000013 & nsXQu0oVjD7PM659uC3SRSp & 3 & 13-761-547-5974 & 3857.34 & BUILDING & ounts sleep carefully after the close frays. carefully bold notornis use ironic requests. blithely \\\\\n",
       "\t14 & 14 & Customer\\#000000014 & KXkletMlL2JQEA  & 1 & 11-845-129-3851 & 5266.3 & FURNITURE & , ironic packages across the unus \\\\\n",
       "\t15 & 15 & Customer\\#000000015 & YtWggXoOLdwdo7b0y,BZaGUQMLJMX1Y,EC,6Dn & 23 & 33-687-542-7601 & 2788.52 & HOUSEHOLD &  platelets. regular deposits detect asymptotes. blithely unusual packages nag slyly at the fluf \\\\\n",
       "\t16 & 16 & Customer\\#000000016 & cYiaeMLZSMAOQ2 d0W, & 10 & 20-781-609-3107 & 4681.03 & FURNITURE & kly silent courts. thinly regular theodolites sleep fluffily after  \\\\\n",
       "\t17 & 17 & Customer\\#000000017 & izrh 6jdqtp2eqdtbkswDD8SG4SzXruMfIXyR7 & 2 & 12-970-682-3487 & 6.34 & AUTOMOBILE & packages wake! blithely even pint \\\\\n",
       "\t18 & 18 & Customer\\#000000018 & 3txGO AiuFux3zT0Z9NYaFRnZt & 6 & 16-155-215-1315 & 5494.43 & BUILDING & s sleep. carefully even instructions nag furiously alongside of t \\\\\n",
       "\t19 & 19 & Customer\\#000000019 & uc,3bHIx84H,wdrmLOjVsiqXCq2tr & 18 & 28-396-526-5053 & 8914.71 & HOUSEHOLD &  nag. furiously careful packages are slyly at the accounts. furiously regular in \\\\\n",
       "\t20 & 20 & Customer\\#000000020 & JrPk8Pqplj4Ne & 22 & 32-957-234-8742 & 7603.4 & FURNITURE & g alongside of the special excuses-- fluffily enticing packages wake  \\\\\n",
       "\t$\\dots$ & $\\dots$ & $\\dots$ & $\\dots$ & $\\dots$ & $\\dots$ & $\\dots$ & $\\dots$ & $\\dots$ \\\\\n",
       "\\end{tabular}\n"
      ],
      "text/plain": [
       "\u001b[1m150000×8 DataFrame\u001b[0m\n",
       "\u001b[1m    Row \u001b[0m│\u001b[1m C_CUSTKEY \u001b[0m\u001b[1m C_NAME             \u001b[0m\u001b[1m C_ADDRESS                         \u001b[0m\u001b[1m C_NATIONKEY \u001b[0m\u001b[1m C_PHONE         \u001b[0m\u001b[1m C_ACCTBAL \u001b[0m\u001b[1m C_MKTSEGMENT \u001b[0m\u001b[1m C_COMMENT                         \u001b[0m\n",
       "\u001b[1m        \u001b[0m│\u001b[90m Int32     \u001b[0m\u001b[90m String             \u001b[0m\u001b[90m String                            \u001b[0m\u001b[90m Int8        \u001b[0m\u001b[90m String          \u001b[0m\u001b[90m Float64   \u001b[0m\u001b[90m String       \u001b[0m\u001b[90m String                            \u001b[0m\n",
       "────────┼────────────────────────────────────────────────────────────────────────────────────────────────────────────────────────────────────────────────────────────\n",
       "      1 │         1  Customer#000000001  IVhzIApeRb ot,c,E                           15  25-989-741-2988     711.56  BUILDING      to the even, regular platelets. …\n",
       "      2 │         2  Customer#000000002  XSTf4,NCwDVaWNe6tEgvwfmRchLXak              13  23-768-687-3665     121.65  AUTOMOBILE    l accounts. blithely ironic theo…\n",
       "      3 │         3  Customer#000000003  MG9kdTD2WBHm                                 1  11-719-748-3364    7498.12  AUTOMOBILE     deposits eat slyly ironic, even…\n",
       "      4 │         4  Customer#000000004  XxVSJsLAGtn                                  4  14-128-190-5944    2866.83  MACHINERY      requests. final, regular ideas …\n",
       "      5 │         5  Customer#000000005  KvpyuHCplrB84WgAiGV6sYpZq7Tj                 3  13-750-942-6364     794.47  HOUSEHOLD     n accounts will have to unwind. …\n",
       "      6 │         6  Customer#000000006  sKZz0CsnMD7mp4Xd0YrBvx,LREYKUWAh…           20  30-114-968-4951    7638.57  AUTOMOBILE    tions. even deposits boost accor…\n",
       "   ⋮    │     ⋮              ⋮                           ⋮                       ⋮              ⋮             ⋮           ⋮                        ⋮\n",
       " 149996 │    104996  Customer#000104996  kB492ifCmsR                                 13  23-473-105-5762    8180.8   AUTOMOBILE    ess instructions. stealthy senti…\n",
       " 149997 │    104997  Customer#000104997  T 4uumEJ3G9yDewkDsRy6tro                    13  23-497-543-7659    3799.36  FURNITURE     the carefully regular theodolite…\n",
       " 149998 │    104998  Customer#000104998  kWoj8DbXRrWCdRTiDJO cnjqcvBHi               14  24-455-333-4949    9792.23  FURNITURE     ounts use across the slyly regul…\n",
       " 149999 │    104999  Customer#000104999  Y1wszB,vvhLPOaC1OuK7Ukz06Md1YVdM            11  21-694-610-4672    5064.84  AUTOMOBILE    n ideas alongside of the enticing\n",
       " 150000 │    105000  Customer#000105000  IKBbmEXSG1RKhMDYqDG QdW3Z1iFOTSQ…            4  14-741-698-6977    4821.79  AUTOMOBILE    finally regular tithes unwind un…\n",
       "\u001b[31m                                                                                                                                                  149989 rows omitted\u001b[0m"
      ]
     },
     "execution_count": 4,
     "metadata": {},
     "output_type": "execute_result"
    }
   ],
   "source": [
    "using DataFrames\n",
    "using Pandas\n",
    "df = DataFrames.DataFrame(Pandas.DataFrame(pandas_df))"
   ]
  },
  {
   "cell_type": "code",
   "execution_count": 5,
   "metadata": {},
   "outputs": [
    {
     "data": {
      "text/plain": [
       "DataFrames.DataFrame"
      ]
     },
     "execution_count": 5,
     "metadata": {},
     "output_type": "execute_result"
    }
   ],
   "source": [
    "typeof(df)"
   ]
  },
  {
   "cell_type": "code",
   "execution_count": null,
   "metadata": {},
   "outputs": [],
   "source": []
  }
 ],
 "metadata": {
  "kernelspec": {
   "display_name": "Julia 1.5.3",
   "language": "julia",
   "name": "julia-1.5"
  },
  "language_info": {
   "file_extension": ".jl",
   "mimetype": "application/julia",
   "name": "julia",
   "version": "1.5.3"
  }
 },
 "nbformat": 4,
 "nbformat_minor": 4
}
